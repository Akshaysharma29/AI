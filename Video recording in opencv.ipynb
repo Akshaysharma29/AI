{
 "cells": [
  {
   "cell_type": "code",
   "execution_count": 1,
   "metadata": {},
   "outputs": [],
   "source": [
    "import cv2 \n",
    "import numpy as np \n",
    "cap = cv2.VideoCapture(0) \n",
    "fourcc = cv2.VideoWriter_fourcc(*'MJPG') \n",
    "out = cv2.VideoWriter('output.avi', fourcc, 20.0, (640, 480)) \n",
    "while True: \n",
    "    ret, frame = cap.read() \n",
    "    out.write(frame) # add this line your code\n",
    "    cv2.imshow('frame', frame) # cv2.imshow('gray', gray)\n",
    "    if cv2.waitKey(1) & 0xFF == ord(\"q\"): \n",
    "        break \n",
    "cap.release() \n",
    "out.release() \n",
    "cv2.destroyAllWindows()"
   ]
  },
  {
   "cell_type": "code",
   "execution_count": null,
   "metadata": {},
   "outputs": [],
   "source": [
    "from IPython.display import Audio, Image, "
   ]
  }
 ],
 "metadata": {
  "kernelspec": {
   "display_name": "Python 3",
   "language": "python",
   "name": "python3"
  },
  "language_info": {
   "codemirror_mode": {
    "name": "ipython",
    "version": 3
   },
   "file_extension": ".py",
   "mimetype": "text/x-python",
   "name": "python",
   "nbconvert_exporter": "python",
   "pygments_lexer": "ipython3",
   "version": "3.6.5"
  }
 },
 "nbformat": 4,
 "nbformat_minor": 2
}
